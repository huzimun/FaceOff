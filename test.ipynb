{
 "cells": [
  {
   "cell_type": "code",
   "execution_count": null,
   "metadata": {},
   "outputs": [
    {
     "name": "stdout",
     "output_type": "stream",
     "text": [
      "mean: 15.902248430252076\n",
      "std: 5.335849189512482\n"
     ]
    }
   ],
   "source": [
    "# FaceOff without refiner IP-Adapter\n",
    "import numpy as np\n",
    "\n",
    "time_costs = [25.303988218307495,\n",
    "12.795610189437866,\n",
    "14.695186853408813,\n",
    "14.206804037094116,\n",
    "12.509652853012085]\n",
    "time_costs = np.array(time_costs)\n",
    "mean = np.mean(time_costs)\n",
    "std = np.std(time_costs, ddof=1)\n",
    "print(\"mean:\", mean)\n",
    "print(\"std:\", std)"
   ]
  },
  {
   "cell_type": "code",
   "execution_count": 3,
   "metadata": {},
   "outputs": [
    {
     "name": "stdout",
     "output_type": "stream",
     "text": [
      "mean: 30.38443579673767\n",
      "std: 2.3783034825997094\n"
     ]
    }
   ],
   "source": [
    "# FaceOff with refiner IP-Adapter\n",
    "import numpy as np\n",
    "\n",
    "time_costs = [31.519236087799072,\n",
    "30.207300901412964,\n",
    "33.55665326118469,\n",
    "29.48466205596924,\n",
    "27.154326677322388,\n",
    "]\n",
    "time_costs = np.array(time_costs)\n",
    "mean = np.mean(time_costs)\n",
    "std = np.std(time_costs, ddof=1)\n",
    "print(\"mean:\", mean)\n",
    "print(\"std:\", std)"
   ]
  },
  {
   "cell_type": "code",
   "execution_count": 1,
   "metadata": {},
   "outputs": [
    {
     "name": "stdout",
     "output_type": "stream",
     "text": [
      "mean: 9.458767700195313\n",
      "std: 2.796717952426987\n"
     ]
    }
   ],
   "source": [
    "# FaceOff without refiner Face-diffuser\n",
    "import numpy as np\n",
    "\n",
    "time_costs = [6.978282451629639,\n",
    "8.857666730880737,\n",
    "6.916036367416382,\n",
    "11.155032396316528,\n",
    "13.386820554733276,\n",
    "]\n",
    "time_costs = np.array(time_costs)\n",
    "mean = np.mean(time_costs)\n",
    "std = np.std(time_costs, ddof=1)\n",
    "print(\"mean:\", mean)\n",
    "print(\"std:\", std)"
   ]
  },
  {
   "cell_type": "code",
   "execution_count": 1,
   "metadata": {},
   "outputs": [
    {
     "name": "stdout",
     "output_type": "stream",
     "text": [
      "mean: 22.34794149398804\n",
      "std: 2.514207372179024\n"
     ]
    }
   ],
   "source": [
    "# FaceOff with refiner Face-diffuser\n",
    "import numpy as np\n",
    "\n",
    "time_costs = [23.443846702575684,\n",
    "26.001880645751953,\n",
    "21.377580404281616,\n",
    "21.609031677246094,\n",
    "19.30736804008484,\n",
    "]\n",
    "time_costs = np.array(time_costs)\n",
    "mean = np.mean(time_costs)\n",
    "std = np.std(time_costs, ddof=1)\n",
    "print(\"mean:\", mean)\n",
    "print(\"std:\", std)"
   ]
  },
  {
   "cell_type": "code",
   "execution_count": null,
   "metadata": {},
   "outputs": [],
   "source": []
  }
 ],
 "metadata": {
  "kernelspec": {
   "display_name": "photomaker",
   "language": "python",
   "name": "python3"
  },
  "language_info": {
   "codemirror_mode": {
    "name": "ipython",
    "version": 3
   },
   "file_extension": ".py",
   "mimetype": "text/x-python",
   "name": "python",
   "nbconvert_exporter": "python",
   "pygments_lexer": "ipython3",
   "version": "3.10.4"
  }
 },
 "nbformat": 4,
 "nbformat_minor": 2
}
