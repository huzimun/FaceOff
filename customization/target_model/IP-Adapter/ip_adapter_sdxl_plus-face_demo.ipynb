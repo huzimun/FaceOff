{
 "cells": [
  {
   "cell_type": "code",
   "execution_count": 1,
   "id": "411c59b3-f177-4a10-8925-d931ce572eaa",
   "metadata": {},
   "outputs": [
    {
     "name": "stderr",
     "output_type": "stream",
     "text": [
      "/data1/humw/anaconda3/envs/photomaker/lib/python3.10/site-packages/tqdm/auto.py:21: TqdmWarning: IProgress not found. Please update jupyter and ipywidgets. See https://ipywidgets.readthedocs.io/en/stable/user_install.html\n",
      "  from .autonotebook import tqdm as notebook_tqdm\n",
      "2024-11-15 21:06:58.090059: I tensorflow/core/platform/cpu_feature_guard.cc:193] This TensorFlow binary is optimized with oneAPI Deep Neural Network Library (oneDNN) to use the following CPU instructions in performance-critical operations:  AVX2 AVX512F AVX512_VNNI FMA\n",
      "To enable them in other operations, rebuild TensorFlow with the appropriate compiler flags.\n",
      "2024-11-15 21:06:58.251811: I tensorflow/core/util/util.cc:169] oneDNN custom operations are on. You may see slightly different numerical results due to floating-point round-off errors from different computation orders. To turn them off, set the environment variable `TF_ENABLE_ONEDNN_OPTS=0`.\n",
      "2024-11-15 21:06:58.296405: E tensorflow/stream_executor/cuda/cuda_blas.cc:2981] Unable to register cuBLAS factory: Attempting to register factory for plugin cuBLAS when one has already been registered\n",
      "2024-11-15 21:06:59.111502: W tensorflow/stream_executor/platform/default/dso_loader.cc:64] Could not load dynamic library 'libnvinfer.so.7'; dlerror: libnvinfer.so.7: cannot open shared object file: No such file or directory; LD_LIBRARY_PATH: /usr/local/cuda-12.6/lib64:\n",
      "2024-11-15 21:06:59.111596: W tensorflow/stream_executor/platform/default/dso_loader.cc:64] Could not load dynamic library 'libnvinfer_plugin.so.7'; dlerror: libnvinfer_plugin.so.7: cannot open shared object file: No such file or directory; LD_LIBRARY_PATH: /usr/local/cuda-12.6/lib64:\n",
      "2024-11-15 21:06:59.111605: W tensorflow/compiler/tf2tensorrt/utils/py_utils.cc:38] TF-TRT Warning: Cannot dlopen some TensorRT libraries. If you would like to use Nvidia GPU with TensorRT, please make sure the missing libraries mentioned above are installed properly.\n"
     ]
    }
   ],
   "source": [
    "import torch\n",
    "from diffusers import StableDiffusionXLPipeline\n",
    "from PIL import Image\n",
    "\n",
    "from ip_adapter import IPAdapterPlusXL\n",
    "from ip_adapter.custom_pipelines import StableDiffusionXLCustomPipeline"
   ]
  },
  {
   "cell_type": "code",
   "execution_count": 8,
   "id": "6b6dc69c-192d-4d74-8b1e-f0d9ccfbdb49",
   "metadata": {},
   "outputs": [],
   "source": [
    "base_model_path = \"/data1/humw/Pretrains/stable-diffusion-xl-base-1.0\" #\"/home/humw/Pretrain/RealVisXL_V3.0\" # \"stabilityai/stable-diffusion-xl-base-1.0\"\n",
    "image_encoder_path = \"/home/humw/Pretrain/h94/IP-Adapter/models/image_encoder\" # \"models/image_encoder\"\n",
    "ip_ckpt = \"/home/humw/Pretrain/h94/IP-Adapter/sdxl_models/ip-adapter-plus-face_sdxl_vit-h.bin\" # \"sdxl_models/ip-adapter-plus-face_sdxl_vit-h.bin\" # a experimental version\n",
    "device = \"cuda:1\""
   ]
  },
  {
   "cell_type": "code",
   "execution_count": 9,
   "id": "8f615ace",
   "metadata": {},
   "outputs": [],
   "source": [
    "from torchvision import transforms\n",
    "from pathlib import Path"
   ]
  },
  {
   "cell_type": "code",
   "execution_count": 10,
   "id": "9034d8bf",
   "metadata": {},
   "outputs": [],
   "source": [
    "def load_data(data_dir, image_size=224, resample=2):\n",
    "    import numpy as np\n",
    "    def image_to_numpy(image):\n",
    "        return np.array(image).astype(np.uint8)\n",
    "    # more robust loading to avoid loaing non-image files\n",
    "    images = [] \n",
    "    for i in sorted(list(Path(data_dir).iterdir())):\n",
    "        if not i.suffix in [\".jpg\", \".png\", \".jpeg\"]:\n",
    "            continue\n",
    "        else:\n",
    "            images.append(image_to_numpy(Image.open(i).convert(\"RGB\")))\n",
    "    # resize the images to 512 x 512, resample value 2 means BILINEAR\n",
    "    images = [Image.fromarray(i).resize((image_size, image_size), resample) for i in images]\n",
    "    return images"
   ]
  },
  {
   "cell_type": "code",
   "execution_count": 11,
   "id": "63ec542f-8474-4f38-9457-073425578073",
   "metadata": {},
   "outputs": [],
   "source": [
    "def image_grid(imgs, rows, cols):\n",
    "    assert len(imgs) == rows*cols\n",
    "\n",
    "    w, h = imgs[0].size\n",
    "    grid = Image.new('RGB', size=(cols*w, rows*h))\n",
    "    grid_w, grid_h = grid.size\n",
    "    \n",
    "    for i, img in enumerate(imgs):\n",
    "        grid.paste(img, box=(i%cols*w, i//cols*h))\n",
    "    return grid"
   ]
  },
  {
   "cell_type": "code",
   "execution_count": 12,
   "id": "3849f9d0-5f68-4a49-9190-69dd50720cae",
   "metadata": {},
   "outputs": [
    {
     "name": "stderr",
     "output_type": "stream",
     "text": [
      "Loading pipeline components...:   0%|          | 0/7 [01:06<?, ?it/s]\n"
     ]
    },
    {
     "ename": "KeyboardInterrupt",
     "evalue": "",
     "output_type": "error",
     "traceback": [
      "\u001b[0;31m---------------------------------------------------------------------------\u001b[0m",
      "\u001b[0;31mKeyboardInterrupt\u001b[0m                         Traceback (most recent call last)",
      "Cell \u001b[0;32mIn[12], line 2\u001b[0m\n\u001b[1;32m      1\u001b[0m \u001b[38;5;66;03m# load SDXL pipeline\u001b[39;00m\n\u001b[0;32m----> 2\u001b[0m pipe \u001b[38;5;241m=\u001b[39m \u001b[43mStableDiffusionXLCustomPipeline\u001b[49m\u001b[38;5;241;43m.\u001b[39;49m\u001b[43mfrom_pretrained\u001b[49m\u001b[43m(\u001b[49m\n\u001b[1;32m      3\u001b[0m \u001b[43m    \u001b[49m\u001b[43mbase_model_path\u001b[49m\u001b[43m,\u001b[49m\n\u001b[1;32m      4\u001b[0m \u001b[43m    \u001b[49m\u001b[43mtorch_dtype\u001b[49m\u001b[38;5;241;43m=\u001b[39;49m\u001b[43mtorch\u001b[49m\u001b[38;5;241;43m.\u001b[39;49m\u001b[43mfloat16\u001b[49m\u001b[43m,\u001b[49m\n\u001b[1;32m      5\u001b[0m \u001b[43m    \u001b[49m\u001b[43madd_watermarker\u001b[49m\u001b[38;5;241;43m=\u001b[39;49m\u001b[38;5;28;43;01mFalse\u001b[39;49;00m\u001b[43m,\u001b[49m\n\u001b[1;32m      6\u001b[0m \u001b[43m)\u001b[49m\n",
      "File \u001b[0;32m~/anaconda3/envs/photomaker/lib/python3.10/site-packages/huggingface_hub/utils/_validators.py:114\u001b[0m, in \u001b[0;36mvalidate_hf_hub_args.<locals>._inner_fn\u001b[0;34m(*args, **kwargs)\u001b[0m\n\u001b[1;32m    111\u001b[0m \u001b[38;5;28;01mif\u001b[39;00m check_use_auth_token:\n\u001b[1;32m    112\u001b[0m     kwargs \u001b[38;5;241m=\u001b[39m smoothly_deprecate_use_auth_token(fn_name\u001b[38;5;241m=\u001b[39mfn\u001b[38;5;241m.\u001b[39m\u001b[38;5;18m__name__\u001b[39m, has_token\u001b[38;5;241m=\u001b[39mhas_token, kwargs\u001b[38;5;241m=\u001b[39mkwargs)\n\u001b[0;32m--> 114\u001b[0m \u001b[38;5;28;01mreturn\u001b[39;00m \u001b[43mfn\u001b[49m\u001b[43m(\u001b[49m\u001b[38;5;241;43m*\u001b[39;49m\u001b[43margs\u001b[49m\u001b[43m,\u001b[49m\u001b[43m \u001b[49m\u001b[38;5;241;43m*\u001b[39;49m\u001b[38;5;241;43m*\u001b[39;49m\u001b[43mkwargs\u001b[49m\u001b[43m)\u001b[49m\n",
      "File \u001b[0;32m~/anaconda3/envs/photomaker/lib/python3.10/site-packages/diffusers/pipelines/pipeline_utils.py:896\u001b[0m, in \u001b[0;36mDiffusionPipeline.from_pretrained\u001b[0;34m(cls, pretrained_model_name_or_path, **kwargs)\u001b[0m\n\u001b[1;32m    893\u001b[0m     loaded_sub_model \u001b[38;5;241m=\u001b[39m passed_class_obj[name]\n\u001b[1;32m    894\u001b[0m \u001b[38;5;28;01melse\u001b[39;00m:\n\u001b[1;32m    895\u001b[0m     \u001b[38;5;66;03m# load sub model\u001b[39;00m\n\u001b[0;32m--> 896\u001b[0m     loaded_sub_model \u001b[38;5;241m=\u001b[39m \u001b[43mload_sub_model\u001b[49m\u001b[43m(\u001b[49m\n\u001b[1;32m    897\u001b[0m \u001b[43m        \u001b[49m\u001b[43mlibrary_name\u001b[49m\u001b[38;5;241;43m=\u001b[39;49m\u001b[43mlibrary_name\u001b[49m\u001b[43m,\u001b[49m\n\u001b[1;32m    898\u001b[0m \u001b[43m        \u001b[49m\u001b[43mclass_name\u001b[49m\u001b[38;5;241;43m=\u001b[39;49m\u001b[43mclass_name\u001b[49m\u001b[43m,\u001b[49m\n\u001b[1;32m    899\u001b[0m \u001b[43m        \u001b[49m\u001b[43mimportable_classes\u001b[49m\u001b[38;5;241;43m=\u001b[39;49m\u001b[43mimportable_classes\u001b[49m\u001b[43m,\u001b[49m\n\u001b[1;32m    900\u001b[0m \u001b[43m        \u001b[49m\u001b[43mpipelines\u001b[49m\u001b[38;5;241;43m=\u001b[39;49m\u001b[43mpipelines\u001b[49m\u001b[43m,\u001b[49m\n\u001b[1;32m    901\u001b[0m \u001b[43m        \u001b[49m\u001b[43mis_pipeline_module\u001b[49m\u001b[38;5;241;43m=\u001b[39;49m\u001b[43mis_pipeline_module\u001b[49m\u001b[43m,\u001b[49m\n\u001b[1;32m    902\u001b[0m \u001b[43m        \u001b[49m\u001b[43mpipeline_class\u001b[49m\u001b[38;5;241;43m=\u001b[39;49m\u001b[43mpipeline_class\u001b[49m\u001b[43m,\u001b[49m\n\u001b[1;32m    903\u001b[0m \u001b[43m        \u001b[49m\u001b[43mtorch_dtype\u001b[49m\u001b[38;5;241;43m=\u001b[39;49m\u001b[43mtorch_dtype\u001b[49m\u001b[43m,\u001b[49m\n\u001b[1;32m    904\u001b[0m \u001b[43m        \u001b[49m\u001b[43mprovider\u001b[49m\u001b[38;5;241;43m=\u001b[39;49m\u001b[43mprovider\u001b[49m\u001b[43m,\u001b[49m\n\u001b[1;32m    905\u001b[0m \u001b[43m        \u001b[49m\u001b[43msess_options\u001b[49m\u001b[38;5;241;43m=\u001b[39;49m\u001b[43msess_options\u001b[49m\u001b[43m,\u001b[49m\n\u001b[1;32m    906\u001b[0m \u001b[43m        \u001b[49m\u001b[43mdevice_map\u001b[49m\u001b[38;5;241;43m=\u001b[39;49m\u001b[43mcurrent_device_map\u001b[49m\u001b[43m,\u001b[49m\n\u001b[1;32m    907\u001b[0m \u001b[43m        \u001b[49m\u001b[43mmax_memory\u001b[49m\u001b[38;5;241;43m=\u001b[39;49m\u001b[43mmax_memory\u001b[49m\u001b[43m,\u001b[49m\n\u001b[1;32m    908\u001b[0m \u001b[43m        \u001b[49m\u001b[43moffload_folder\u001b[49m\u001b[38;5;241;43m=\u001b[39;49m\u001b[43moffload_folder\u001b[49m\u001b[43m,\u001b[49m\n\u001b[1;32m    909\u001b[0m \u001b[43m        \u001b[49m\u001b[43moffload_state_dict\u001b[49m\u001b[38;5;241;43m=\u001b[39;49m\u001b[43moffload_state_dict\u001b[49m\u001b[43m,\u001b[49m\n\u001b[1;32m    910\u001b[0m \u001b[43m        \u001b[49m\u001b[43mmodel_variants\u001b[49m\u001b[38;5;241;43m=\u001b[39;49m\u001b[43mmodel_variants\u001b[49m\u001b[43m,\u001b[49m\n\u001b[1;32m    911\u001b[0m \u001b[43m        \u001b[49m\u001b[43mname\u001b[49m\u001b[38;5;241;43m=\u001b[39;49m\u001b[43mname\u001b[49m\u001b[43m,\u001b[49m\n\u001b[1;32m    912\u001b[0m \u001b[43m        \u001b[49m\u001b[43mfrom_flax\u001b[49m\u001b[38;5;241;43m=\u001b[39;49m\u001b[43mfrom_flax\u001b[49m\u001b[43m,\u001b[49m\n\u001b[1;32m    913\u001b[0m \u001b[43m        \u001b[49m\u001b[43mvariant\u001b[49m\u001b[38;5;241;43m=\u001b[39;49m\u001b[43mvariant\u001b[49m\u001b[43m,\u001b[49m\n\u001b[1;32m    914\u001b[0m \u001b[43m        \u001b[49m\u001b[43mlow_cpu_mem_usage\u001b[49m\u001b[38;5;241;43m=\u001b[39;49m\u001b[43mlow_cpu_mem_usage\u001b[49m\u001b[43m,\u001b[49m\n\u001b[1;32m    915\u001b[0m \u001b[43m        \u001b[49m\u001b[43mcached_folder\u001b[49m\u001b[38;5;241;43m=\u001b[39;49m\u001b[43mcached_folder\u001b[49m\u001b[43m,\u001b[49m\n\u001b[1;32m    916\u001b[0m \u001b[43m        \u001b[49m\u001b[43muse_safetensors\u001b[49m\u001b[38;5;241;43m=\u001b[39;49m\u001b[43muse_safetensors\u001b[49m\u001b[43m,\u001b[49m\n\u001b[1;32m    917\u001b[0m \u001b[43m    \u001b[49m\u001b[43m)\u001b[49m\n\u001b[1;32m    918\u001b[0m     logger\u001b[38;5;241m.\u001b[39minfo(\n\u001b[1;32m    919\u001b[0m         \u001b[38;5;124mf\u001b[39m\u001b[38;5;124m\"\u001b[39m\u001b[38;5;124mLoaded \u001b[39m\u001b[38;5;132;01m{\u001b[39;00mname\u001b[38;5;132;01m}\u001b[39;00m\u001b[38;5;124m as \u001b[39m\u001b[38;5;132;01m{\u001b[39;00mclass_name\u001b[38;5;132;01m}\u001b[39;00m\u001b[38;5;124m from `\u001b[39m\u001b[38;5;132;01m{\u001b[39;00mname\u001b[38;5;132;01m}\u001b[39;00m\u001b[38;5;124m` subfolder of \u001b[39m\u001b[38;5;132;01m{\u001b[39;00mpretrained_model_name_or_path\u001b[38;5;132;01m}\u001b[39;00m\u001b[38;5;124m.\u001b[39m\u001b[38;5;124m\"\u001b[39m\n\u001b[1;32m    920\u001b[0m     )\n\u001b[1;32m    922\u001b[0m init_kwargs[name] \u001b[38;5;241m=\u001b[39m loaded_sub_model  \u001b[38;5;66;03m# UNet(...), # DiffusionSchedule(...)\u001b[39;00m\n",
      "File \u001b[0;32m~/anaconda3/envs/photomaker/lib/python3.10/site-packages/diffusers/pipelines/pipeline_loading_utils.py:704\u001b[0m, in \u001b[0;36mload_sub_model\u001b[0;34m(library_name, class_name, importable_classes, pipelines, is_pipeline_module, pipeline_class, torch_dtype, provider, sess_options, device_map, max_memory, offload_folder, offload_state_dict, model_variants, name, from_flax, variant, low_cpu_mem_usage, cached_folder, use_safetensors)\u001b[0m\n\u001b[1;32m    702\u001b[0m \u001b[38;5;66;03m# check if the module is in a subdirectory\u001b[39;00m\n\u001b[1;32m    703\u001b[0m \u001b[38;5;28;01mif\u001b[39;00m os\u001b[38;5;241m.\u001b[39mpath\u001b[38;5;241m.\u001b[39misdir(os\u001b[38;5;241m.\u001b[39mpath\u001b[38;5;241m.\u001b[39mjoin(cached_folder, name)):\n\u001b[0;32m--> 704\u001b[0m     loaded_sub_model \u001b[38;5;241m=\u001b[39m \u001b[43mload_method\u001b[49m\u001b[43m(\u001b[49m\u001b[43mos\u001b[49m\u001b[38;5;241;43m.\u001b[39;49m\u001b[43mpath\u001b[49m\u001b[38;5;241;43m.\u001b[39;49m\u001b[43mjoin\u001b[49m\u001b[43m(\u001b[49m\u001b[43mcached_folder\u001b[49m\u001b[43m,\u001b[49m\u001b[43m \u001b[49m\u001b[43mname\u001b[49m\u001b[43m)\u001b[49m\u001b[43m,\u001b[49m\u001b[43m \u001b[49m\u001b[38;5;241;43m*\u001b[39;49m\u001b[38;5;241;43m*\u001b[39;49m\u001b[43mloading_kwargs\u001b[49m\u001b[43m)\u001b[49m\n\u001b[1;32m    705\u001b[0m \u001b[38;5;28;01melse\u001b[39;00m:\n\u001b[1;32m    706\u001b[0m     \u001b[38;5;66;03m# else load from the root directory\u001b[39;00m\n\u001b[1;32m    707\u001b[0m     loaded_sub_model \u001b[38;5;241m=\u001b[39m load_method(cached_folder, \u001b[38;5;241m*\u001b[39m\u001b[38;5;241m*\u001b[39mloading_kwargs)\n",
      "File \u001b[0;32m~/anaconda3/envs/photomaker/lib/python3.10/site-packages/huggingface_hub/utils/_validators.py:114\u001b[0m, in \u001b[0;36mvalidate_hf_hub_args.<locals>._inner_fn\u001b[0;34m(*args, **kwargs)\u001b[0m\n\u001b[1;32m    111\u001b[0m \u001b[38;5;28;01mif\u001b[39;00m check_use_auth_token:\n\u001b[1;32m    112\u001b[0m     kwargs \u001b[38;5;241m=\u001b[39m smoothly_deprecate_use_auth_token(fn_name\u001b[38;5;241m=\u001b[39mfn\u001b[38;5;241m.\u001b[39m\u001b[38;5;18m__name__\u001b[39m, has_token\u001b[38;5;241m=\u001b[39mhas_token, kwargs\u001b[38;5;241m=\u001b[39mkwargs)\n\u001b[0;32m--> 114\u001b[0m \u001b[38;5;28;01mreturn\u001b[39;00m \u001b[43mfn\u001b[49m\u001b[43m(\u001b[49m\u001b[38;5;241;43m*\u001b[39;49m\u001b[43margs\u001b[49m\u001b[43m,\u001b[49m\u001b[43m \u001b[49m\u001b[38;5;241;43m*\u001b[39;49m\u001b[38;5;241;43m*\u001b[39;49m\u001b[43mkwargs\u001b[49m\u001b[43m)\u001b[49m\n",
      "File \u001b[0;32m~/anaconda3/envs/photomaker/lib/python3.10/site-packages/diffusers/models/modeling_utils.py:855\u001b[0m, in \u001b[0;36mModelMixin.from_pretrained\u001b[0;34m(cls, pretrained_model_name_or_path, **kwargs)\u001b[0m\n\u001b[1;32m    847\u001b[0m \u001b[38;5;28;01mif\u001b[39;00m \u001b[38;5;28mlen\u001b[39m(missing_keys) \u001b[38;5;241m>\u001b[39m \u001b[38;5;241m0\u001b[39m:\n\u001b[1;32m    848\u001b[0m     \u001b[38;5;28;01mraise\u001b[39;00m \u001b[38;5;167;01mValueError\u001b[39;00m(\n\u001b[1;32m    849\u001b[0m         \u001b[38;5;124mf\u001b[39m\u001b[38;5;124m\"\u001b[39m\u001b[38;5;124mCannot load \u001b[39m\u001b[38;5;132;01m{\u001b[39;00m\u001b[38;5;28mcls\u001b[39m\u001b[38;5;132;01m}\u001b[39;00m\u001b[38;5;124m from \u001b[39m\u001b[38;5;132;01m{\u001b[39;00mpretrained_model_name_or_path\u001b[38;5;132;01m}\u001b[39;00m\u001b[38;5;124m because the following keys are\u001b[39m\u001b[38;5;124m\"\u001b[39m\n\u001b[1;32m    850\u001b[0m         \u001b[38;5;124mf\u001b[39m\u001b[38;5;124m\"\u001b[39m\u001b[38;5;124m missing: \u001b[39m\u001b[38;5;130;01m\\n\u001b[39;00m\u001b[38;5;124m \u001b[39m\u001b[38;5;132;01m{\u001b[39;00m\u001b[38;5;124m'\u001b[39m\u001b[38;5;124m, \u001b[39m\u001b[38;5;124m'\u001b[39m\u001b[38;5;241m.\u001b[39mjoin(missing_keys)\u001b[38;5;132;01m}\u001b[39;00m\u001b[38;5;124m. \u001b[39m\u001b[38;5;130;01m\\n\u001b[39;00m\u001b[38;5;124m Please make sure to pass\u001b[39m\u001b[38;5;124m\"\u001b[39m\n\u001b[1;32m    851\u001b[0m         \u001b[38;5;124m\"\u001b[39m\u001b[38;5;124m `low_cpu_mem_usage=False` and `device_map=None` if you want to randomly initialize\u001b[39m\u001b[38;5;124m\"\u001b[39m\n\u001b[1;32m    852\u001b[0m         \u001b[38;5;124m\"\u001b[39m\u001b[38;5;124m those weights or else make sure your checkpoint file is correct.\u001b[39m\u001b[38;5;124m\"\u001b[39m\n\u001b[1;32m    853\u001b[0m     )\n\u001b[0;32m--> 855\u001b[0m unexpected_keys \u001b[38;5;241m=\u001b[39m \u001b[43mload_model_dict_into_meta\u001b[49m\u001b[43m(\u001b[49m\n\u001b[1;32m    856\u001b[0m \u001b[43m    \u001b[49m\u001b[43mmodel\u001b[49m\u001b[43m,\u001b[49m\n\u001b[1;32m    857\u001b[0m \u001b[43m    \u001b[49m\u001b[43mstate_dict\u001b[49m\u001b[43m,\u001b[49m\n\u001b[1;32m    858\u001b[0m \u001b[43m    \u001b[49m\u001b[43mdevice\u001b[49m\u001b[38;5;241;43m=\u001b[39;49m\u001b[43mparam_device\u001b[49m\u001b[43m,\u001b[49m\n\u001b[1;32m    859\u001b[0m \u001b[43m    \u001b[49m\u001b[43mdtype\u001b[49m\u001b[38;5;241;43m=\u001b[39;49m\u001b[43mtorch_dtype\u001b[49m\u001b[43m,\u001b[49m\n\u001b[1;32m    860\u001b[0m \u001b[43m    \u001b[49m\u001b[43mmodel_name_or_path\u001b[49m\u001b[38;5;241;43m=\u001b[39;49m\u001b[43mpretrained_model_name_or_path\u001b[49m\u001b[43m,\u001b[49m\n\u001b[1;32m    861\u001b[0m \u001b[43m    \u001b[49m\u001b[43mhf_quantizer\u001b[49m\u001b[38;5;241;43m=\u001b[39;49m\u001b[43mhf_quantizer\u001b[49m\u001b[43m,\u001b[49m\n\u001b[1;32m    862\u001b[0m \u001b[43m    \u001b[49m\u001b[43mkeep_in_fp32_modules\u001b[49m\u001b[38;5;241;43m=\u001b[39;49m\u001b[43mkeep_in_fp32_modules\u001b[49m\u001b[43m,\u001b[49m\n\u001b[1;32m    863\u001b[0m \u001b[43m\u001b[49m\u001b[43m)\u001b[49m\n\u001b[1;32m    865\u001b[0m \u001b[38;5;28;01mif\u001b[39;00m \u001b[38;5;28mcls\u001b[39m\u001b[38;5;241m.\u001b[39m_keys_to_ignore_on_load_unexpected \u001b[38;5;129;01mis\u001b[39;00m \u001b[38;5;129;01mnot\u001b[39;00m \u001b[38;5;28;01mNone\u001b[39;00m:\n\u001b[1;32m    866\u001b[0m     \u001b[38;5;28;01mfor\u001b[39;00m pat \u001b[38;5;129;01min\u001b[39;00m \u001b[38;5;28mcls\u001b[39m\u001b[38;5;241m.\u001b[39m_keys_to_ignore_on_load_unexpected:\n",
      "File \u001b[0;32m~/anaconda3/envs/photomaker/lib/python3.10/site-packages/diffusers/models/model_loading_utils.py:209\u001b[0m, in \u001b[0;36mload_model_dict_into_meta\u001b[0;34m(model, state_dict, device, dtype, model_name_or_path, hf_quantizer, keep_in_fp32_modules)\u001b[0m\n\u001b[1;32m    207\u001b[0m         set_module_kwargs[\u001b[38;5;124m\"\u001b[39m\u001b[38;5;124mdtype\u001b[39m\u001b[38;5;124m\"\u001b[39m] \u001b[38;5;241m=\u001b[39m torch\u001b[38;5;241m.\u001b[39mfloat32\n\u001b[1;32m    208\u001b[0m \u001b[38;5;28;01melse\u001b[39;00m:\n\u001b[0;32m--> 209\u001b[0m     param \u001b[38;5;241m=\u001b[39m \u001b[43mparam\u001b[49m\u001b[38;5;241;43m.\u001b[39;49m\u001b[43mto\u001b[49m\u001b[43m(\u001b[49m\u001b[43mdtype\u001b[49m\u001b[43m)\u001b[49m\n\u001b[1;32m    210\u001b[0m     \u001b[38;5;28;01mif\u001b[39;00m accepts_dtype:\n\u001b[1;32m    211\u001b[0m         set_module_kwargs[\u001b[38;5;124m\"\u001b[39m\u001b[38;5;124mdtype\u001b[39m\u001b[38;5;124m\"\u001b[39m] \u001b[38;5;241m=\u001b[39m dtype\n",
      "\u001b[0;31mKeyboardInterrupt\u001b[0m: "
     ]
    }
   ],
   "source": [
    "# load SDXL pipeline\n",
    "pipe = StableDiffusionXLCustomPipeline.from_pretrained(\n",
    "    base_model_path,\n",
    "    torch_dtype=torch.float16,\n",
    "    add_watermarker=False,\n",
    ")"
   ]
  },
  {
   "cell_type": "code",
   "execution_count": null,
   "id": "81b1ab06-d3ed-4a7e-a356-9ddf1a2eecd6",
   "metadata": {},
   "outputs": [],
   "source": [
    "# load ip-adapter\n",
    "ip_model = IPAdapterPlusXL(pipe, image_encoder_path, ip_ckpt, device, num_tokens=16)"
   ]
  },
  {
   "cell_type": "markdown",
   "id": "2a36055a-32fe-4d47-ba05-3ed143672daf",
   "metadata": {},
   "source": [
    "## Generate Image conditioned on face images\n",
    "- You should use a cropped face image (you can the adjust the cropped area size to get different results)\n",
    "- Since the background will have an impact on the resulting image, you'd better segment the face"
   ]
  },
  {
   "cell_type": "code",
   "execution_count": null,
   "id": "b040d962-7025-4393-9db5-cd60ac9a97dc",
   "metadata": {},
   "outputs": [],
   "source": [
    "# case 1\n",
    "image = Image.open(\"/home/humw/Codes/FaceOff/output/Exp1/ipadapter/min-VGGFace2_ipadapter_out-512_mid-336_loss-n-mse_alpha6_eps16_num200_pre-test/n000050/0012_01.png\")\n",
    "image.resize((224, 224),resample=2)\n",
    "\n",
    "# image = Image.open(\"/home/humw/Codes/FaceOff/output/Exp1/ipadapter/min-VGGFace2_ipadapter_out-512_mid-336_loss-n-mse_alpha6_eps16_num200_pre-test/n000050/0012_01.png\")\n",
    "# image.resize((224, 224),resample=2)"
   ]
  },
  {
   "cell_type": "code",
   "execution_count": null,
   "id": "5f1e3f7f",
   "metadata": {},
   "outputs": [],
   "source": [
    "data_dir = \"/home/humw/Codes/FaceOff/output/Exp1/ipadapter/min-VGGFace2_ipadapter_out-512_mid-336_loss-n-mse_alpha6_eps16_num200_pre-test/n000050\"\n",
    "images = load_data(data_dir, image_size=224)"
   ]
  },
  {
   "cell_type": "code",
   "execution_count": null,
   "id": "b77f52de-a9e4-44e1-aeec-8165414f1273",
   "metadata": {},
   "outputs": [],
   "source": [
    "images = ip_model.generate(pil_image=image, num_samples=1, num_inference_steps=30, seed=42,\n",
    "        prompt=\"a photo of person\")\n",
    "# grid = image_grid(images, 1, 2)\n",
    "# grid"
   ]
  },
  {
   "cell_type": "code",
   "execution_count": null,
   "id": "ec4b3b5c",
   "metadata": {},
   "outputs": [],
   "source": [
    "grid = image_grid(images, 1,1)\n",
    "grid"
   ]
  },
  {
   "cell_type": "code",
   "execution_count": null,
   "id": "c76ff9c9",
   "metadata": {},
   "outputs": [],
   "source": [
    "# case 1\n",
    "image = Image.open(\"/home/humw/Datasets/mini-VGGFace2/n000050/set_B/0012_01.png\")\n",
    "image.resize((224, 224))"
   ]
  },
  {
   "cell_type": "code",
   "execution_count": null,
   "id": "e60aad8b",
   "metadata": {},
   "outputs": [],
   "source": [
    "images = ip_model.generate(pil_image=image, num_samples=2, num_inference_steps=30, seed=42,\n",
    "        prompt=\"a photo of person\")\n",
    "grid = image_grid(images, 1, 2)\n",
    "grid"
   ]
  },
  {
   "cell_type": "code",
   "execution_count": null,
   "id": "36ec1dce-7861-4ce2-90de-0de36bb28569",
   "metadata": {},
   "outputs": [],
   "source": [
    "# case 2\n",
    "image = Image.open(\"assets/images/ai_face2.png\")\n",
    "image.resize((224, 224))"
   ]
  },
  {
   "cell_type": "code",
   "execution_count": null,
   "id": "7fb2114c-a3f8-4d5c-946a-89c5828626d3",
   "metadata": {},
   "outputs": [],
   "source": [
    "images = ip_model.generate(pil_image=image, num_samples=2, num_inference_steps=30, seed=42,\n",
    "        prompt=\"photo of a beautiful girl wearing casual shirt in a garden\")\n",
    "grid = image_grid(images, 1, 2)\n",
    "grid"
   ]
  },
  {
   "cell_type": "code",
   "execution_count": null,
   "id": "a03eb120",
   "metadata": {},
   "outputs": [],
   "source": [
    "# # case 2\n",
    "# image = Image.open(\"/home/humw/Datasets/VGGFace2/n000050/set_B/0012_01.png\")\n",
    "# image.resize((224, 224))\n",
    "# images = ip_model.generate(pil_image=image, num_samples=2, num_inference_steps=30, seed=42,\n",
    "#         prompt=\"a photo of person\")\n",
    "# import os\n",
    "# save_prompt_dir = '/home/humw/Codes/FaceOff/target_model/IP-Adapter-main/output/sd_xl_plus'\n",
    "# save_path = os.path.join(save_prompt_dir, 'n000050_original')\n",
    "# os.makedirs(save_path, exist_ok=True)\n",
    "# for idx, image in enumerate(images):\n",
    "#     image.save(os.path.join(save_path, f\"ipadapter_{idx:02d}.png\"))\n",
    "# grid = image_grid(images, 1, 2)\n",
    "# grid\n",
    "# case 2\n",
    "import os\n",
    "# images = list()\n",
    "# img_dir = '/home/humw/Codes/FaceOff/output/min-VGGFace2_ipadapter_out-512_loss-n-mse_alpha6_eps16_num200_pre-test/n000050'\n",
    "# for img in os.listdir(img_dir):\n",
    "#     image = Image.open(os.path.join(img_dir, img))\n",
    "#     image.resize((224, 224))\n",
    "#     images.append(image)\n",
    "image = Image.open(\"/home/humw/Codes/FaceOff/output/min-VGGFace2_ipadapter_out-512_loss-n-mse_alpha6_eps16_num200_pre-test/n000050/0012_01.png\")\n",
    "image.resize((224, 224))\n",
    "images = ip_model.generate(pil_image=images, num_samples=2, num_inference_steps=30, seed=42,\n",
    "        prompt=\"a photo of person\")\n",
    "grid = image_grid(images, 1, 2)\n",
    "grid\n",
    "save_prompt_dir = '/home/humw/Codes/FaceOff/target_model/IP-Adapter-main/output/sd_xl_plus/test'\n",
    "save_path = os.path.join(save_prompt_dir, 'n000050')\n",
    "os.makedirs(save_path, exist_ok=True)\n",
    "for idx, image in enumerate(images):\n",
    "    image.save(os.path.join(save_path, f\"ipadapter_{idx:02d}.png\"))\n"
   ]
  },
  {
   "cell_type": "code",
   "execution_count": null,
   "id": "04bdc962",
   "metadata": {},
   "outputs": [],
   "source": [
    "# case 2\n",
    "# image = Image.open(\"/home/humw/Datasets/VGGFace2/n000057/set_B/0012_01.png\")\n",
    "# image.resize((224, 224))\n",
    "# images = ip_model.generate(pil_image=image, num_samples=2, num_inference_steps=30, seed=42,\n",
    "#         prompt=\"a photo of person\")\n",
    "# import os\n",
    "# save_prompt_dir = '/home/humw/Codes/FaceOff/target_model/IP-Adapter-main/output/sd_xl_plus'\n",
    "# save_path = os.path.join(save_prompt_dir, 'n000057_original')\n",
    "# os.makedirs(save_path, exist_ok=True)\n",
    "# for idx, image in enumerate(images):\n",
    "#     image.save(os.path.join(save_path, f\"ipadapter_{idx:02d}.png\"))\n",
    "# grid = image_grid(images, 1, 2)\n",
    "# grid\n",
    "\n",
    "image = Image.open(\"/home/humw/Codes/FaceOff/output/VGGFace2_photomaker_max_out-512_refiner-blur3-min75-inter40_loss-n-mse_alpha6_eps16_num200/n000057/0012_01.png\")\n",
    "image.resize((224, 224))\n",
    "images = ip_model.generate(pil_image=image, num_samples=2, num_inference_steps=30, seed=42,\n",
    "        prompt=\"a photo of person\")\n",
    "import os\n",
    "save_prompt_dir = '/home/humw/Codes/FaceOff/target_model/IP-Adapter-main/output/sd_xl_plus'\n",
    "save_path = os.path.join(save_prompt_dir, 'n000057_refiner')\n",
    "os.makedirs(save_path, exist_ok=True)\n",
    "for idx, image in enumerate(images):\n",
    "    image.save(os.path.join(save_path, f\"ipadapter_{idx:02d}.png\"))\n",
    "grid = image_grid(images, 1, 2)\n",
    "grid\n",
    "\n",
    "image = Image.open(\"/home/humw/Codes/FaceOff/output/VGGFace2_photomaker_max_out-512_loss-n-mse_alpha6_eps16_num200/n000057/0012_01.png\")\n",
    "image.resize((224, 224))\n",
    "images = ip_model.generate(pil_image=image, num_samples=2, num_inference_steps=30, seed=42,\n",
    "        prompt=\"a photo of person\")\n",
    "import os\n",
    "save_prompt_dir = '/home/humw/Codes/FaceOff/target_model/IP-Adapter-main/output/sd_xl_plus'\n",
    "save_path = os.path.join(save_prompt_dir, 'n000057_no_refiner')\n",
    "os.makedirs(save_path, exist_ok=True)\n",
    "for idx, image in enumerate(images):\n",
    "    image.save(os.path.join(save_path, f\"ipadapter_{idx:02d}.png\"))\n",
    "grid = image_grid(images, 1, 2)\n",
    "grid"
   ]
  },
  {
   "cell_type": "markdown",
   "id": "82a09df1-3bc9-43ff-976e-c095402b1225",
   "metadata": {},
   "source": [
    "## Post-Conditioning\n",
    "Use post-condition to generate more diverse images (like inpainting but you don't draw mask)"
   ]
  },
  {
   "cell_type": "code",
   "execution_count": null,
   "id": "c346f01f-cb18-41c7-abaa-5cbdb3ecea0d",
   "metadata": {},
   "outputs": [],
   "source": [
    "# generate the image only conditioned text\n",
    "images = ip_model.generate(pil_image=image, num_samples=2, num_inference_steps=30, seed=2023,\n",
    "        prompt=\"photo of a beautiful girl wearing casual shirt in a garden\", control_guidance_start=1.)\n",
    "grid = image_grid(images, 1, 2)\n",
    "grid"
   ]
  },
  {
   "cell_type": "code",
   "execution_count": null,
   "id": "eb4600bf-f36e-4678-9253-3adf0be2af9f",
   "metadata": {},
   "outputs": [],
   "source": [
    "# add face image condition\n",
    "images = ip_model.generate(pil_image=image, num_samples=2, num_inference_steps=30, seed=2023,\n",
    "        prompt=\"photo of a beautiful girl wearing casual shirt in a garden\", control_guidance_start=0.5)\n",
    "grid = image_grid(images, 1, 2)\n",
    "grid"
   ]
  }
 ],
 "metadata": {
  "kernelspec": {
   "display_name": "photomaker",
   "language": "python",
   "name": "python3"
  },
  "language_info": {
   "codemirror_mode": {
    "name": "ipython",
    "version": 3
   },
   "file_extension": ".py",
   "mimetype": "text/x-python",
   "name": "python",
   "nbconvert_exporter": "python",
   "pygments_lexer": "ipython3",
   "version": "3.10.4"
  }
 },
 "nbformat": 4,
 "nbformat_minor": 5
}
