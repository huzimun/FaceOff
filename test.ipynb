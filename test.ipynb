{
 "cells": [
  {
   "cell_type": "code",
   "execution_count": null,
   "metadata": {},
   "outputs": [
    {
     "name": "stdout",
     "output_type": "stream",
     "text": [
      "mean: 15.902248430252076\n",
      "std: 5.335849189512482\n"
     ]
    }
   ],
   "source": [
    "# FaceOff without refiner IP-Adapter\n",
    "import numpy as np\n",
    "\n",
    "time_costs = [25.303988218307495,\n",
    "12.795610189437866,\n",
    "14.695186853408813,\n",
    "14.206804037094116,\n",
    "12.509652853012085]\n",
    "time_costs = np.array(time_costs)\n",
    "mean = np.mean(time_costs)\n",
    "std = np.std(time_costs, ddof=1)\n",
    "print(\"mean:\", mean)\n",
    "print(\"std:\", std)"
   ]
  },
  {
   "cell_type": "code",
   "execution_count": 3,
   "metadata": {},
   "outputs": [
    {
     "name": "stdout",
     "output_type": "stream",
     "text": [
      "mean: 30.38443579673767\n",
      "std: 2.3783034825997094\n"
     ]
    }
   ],
   "source": [
    "# FaceOff with refiner IP-Adapter\n",
    "import numpy as np\n",
    "\n",
    "time_costs = [31.519236087799072,\n",
    "30.207300901412964,\n",
    "33.55665326118469,\n",
    "29.48466205596924,\n",
    "27.154326677322388,\n",
    "]\n",
    "time_costs = np.array(time_costs)\n",
    "mean = np.mean(time_costs)\n",
    "std = np.std(time_costs, ddof=1)\n",
    "print(\"mean:\", mean)\n",
    "print(\"std:\", std)"
   ]
  },
  {
   "cell_type": "code",
   "execution_count": 1,
   "metadata": {},
   "outputs": [
    {
     "name": "stdout",
     "output_type": "stream",
     "text": [
      "mean: 9.458767700195313\n",
      "std: 2.796717952426987\n"
     ]
    }
   ],
   "source": [
    "# FaceOff without refiner Face-diffuser\n",
    "import numpy as np\n",
    "\n",
    "time_costs = [6.978282451629639,\n",
    "8.857666730880737,\n",
    "6.916036367416382,\n",
    "11.155032396316528,\n",
    "13.386820554733276,\n",
    "]\n",
    "time_costs = np.array(time_costs)\n",
    "mean = np.mean(time_costs)\n",
    "std = np.std(time_costs, ddof=1)\n",
    "print(\"mean:\", mean)\n",
    "print(\"std:\", std)"
   ]
  },
  {
   "cell_type": "code",
   "execution_count": 1,
   "metadata": {},
   "outputs": [
    {
     "name": "stdout",
     "output_type": "stream",
     "text": [
      "mean: 22.34794149398804\n",
      "std: 2.514207372179024\n"
     ]
    }
   ],
   "source": [
    "# FaceOff with refiner Face-diffuser\n",
    "import numpy as np\n",
    "\n",
    "time_costs = [23.443846702575684,\n",
    "26.001880645751953,\n",
    "21.377580404281616,\n",
    "21.609031677246094,\n",
    "19.30736804008484,\n",
    "]\n",
    "time_costs = np.array(time_costs)\n",
    "mean = np.mean(time_costs)\n",
    "std = np.std(time_costs, ddof=1)\n",
    "print(\"mean:\", mean)\n",
    "print(\"std:\", std)"
   ]
  },
  {
   "cell_type": "code",
   "execution_count": 1,
   "metadata": {},
   "outputs": [
    {
     "name": "stdout",
     "output_type": "stream",
     "text": [
      "mean: 6771.244346094131\n",
      "std: 1991.3142366297964\n"
     ]
    }
   ],
   "source": [
    "# MetaCloak SD1.5\n",
    "import numpy as np\n",
    "\n",
    "time_costs = [5463.845477819443,\n",
    "7612.478395462036,\n",
    "5409.104291439056,\n",
    "5458.561792850494,\n",
    "9912.231772899628,\n",
    "]\n",
    "time_costs = np.array(time_costs)\n",
    "mean = np.mean(time_costs)\n",
    "std = np.std(time_costs, ddof=1)\n",
    "print(\"mean:\", mean)\n",
    "print(\"std:\", std)"
   ]
  },
  {
   "cell_type": "code",
   "execution_count": null,
   "metadata": {},
   "outputs": [
    {
     "name": "stdout",
     "output_type": "stream",
     "text": [
      "mean: 125.71716675758361\n",
      "std: 4.355876389246439\n"
     ]
    }
   ],
   "source": [
    "# CAAT SD15\n",
    "import numpy as np\n",
    "\n",
    "time_costs = [133.50535488128662,\n",
    "123.70016765594482,\n",
    "123.98090982437134,\n",
    "123.78787732124329,\n",
    "123.61152410507202\n",
    "]\n",
    "time_costs = np.array(time_costs)\n",
    "mean = np.mean(time_costs)\n",
    "std = np.std(time_costs, ddof=1)\n",
    "print(\"mean:\", mean)\n",
    "print(\"std:\", std)"
   ]
  },
  {
   "cell_type": "code",
   "execution_count": 3,
   "metadata": {},
   "outputs": [
    {
     "name": "stdout",
     "output_type": "stream",
     "text": [
      "mean: 240.48395924568177\n",
      "std: 9.923093616514814\n"
     ]
    }
   ],
   "source": [
    "# ASPL SD1.5\n",
    "import numpy as np\n",
    "\n",
    "time_costs = [258.22124767303467,\n",
    "236.55342149734497,\n",
    "236.2885148525238,\n",
    "235.57765316963196,\n",
    "235.7789590358734,\n",
    "]\n",
    "time_costs = np.array(time_costs)\n",
    "mean = np.mean(time_costs)\n",
    "std = np.std(time_costs, ddof=1)\n",
    "print(\"mean:\", mean)\n",
    "print(\"std:\", std)"
   ]
  },
  {
   "cell_type": "code",
   "execution_count": null,
   "metadata": {},
   "outputs": [
    {
     "name": "stdout",
     "output_type": "stream",
     "text": [
      "mean: 18.295413494110107\n",
      "std: 2.0569783580858587\n"
     ]
    }
   ],
   "source": [
    "# VAE SD1.5 without refiner\n",
    "import numpy as np\n",
    "\n",
    "time_costs = [21.812111139297485,\n",
    "17.0001540184021,\n",
    "17.04908013343811,\n",
    "17.155550241470337,\n",
    "18.460171937942505,\n",
    "]\n",
    "time_costs = np.array(time_costs)\n",
    "mean = np.mean(time_costs)\n",
    "std = np.std(time_costs, ddof=1)\n",
    "print(\"mean:\", mean)\n",
    "print(\"std:\", std)"
   ]
  },
  {
   "cell_type": "code",
   "execution_count": 1,
   "metadata": {},
   "outputs": [
    {
     "name": "stdout",
     "output_type": "stream",
     "text": [
      "mean: 36.99982223510742\n",
      "std: 0.9705606253987167\n"
     ]
    }
   ],
   "source": [
    "# VAE SD1.5 with refiner\n",
    "import numpy as np\n",
    "\n",
    "time_costs = [37.77041435241699,\n",
    "37.14599871635437,\n",
    "35.824644327163696,\n",
    "38.061320066452026,\n",
    "36.196733713150024,\n",
    "]\n",
    "time_costs = np.array(time_costs)\n",
    "mean = np.mean(time_costs)\n",
    "std = np.std(time_costs, ddof=1)\n",
    "print(\"mean:\", mean)\n",
    "print(\"std:\", std)"
   ]
  },
  {
   "cell_type": "code",
   "execution_count": 1,
   "metadata": {},
   "outputs": [
    {
     "name": "stdout",
     "output_type": "stream",
     "text": [
      "mean: 0.43747787475585936\n",
      "std: 0.09572526432507719\n"
     ]
    }
   ],
   "source": [
    "# JPEG\n",
    "import numpy as np\n",
    "\n",
    "time_costs = [0.32544898986816406,\n",
    "0.5063591003417969,\n",
    "0.563607931137085,\n",
    "0.39420056343078613,\n",
    "0.39777278900146484,\n",
    "]\n",
    "time_costs = np.array(time_costs)\n",
    "mean = np.mean(time_costs)\n",
    "std = np.std(time_costs, ddof=1)\n",
    "print(\"mean:\", mean)\n",
    "print(\"std:\", std)"
   ]
  },
  {
   "cell_type": "code",
   "execution_count": 3,
   "metadata": {},
   "outputs": [
    {
     "name": "stdout",
     "output_type": "stream",
     "text": [
      "mean: 13.47417984008789\n",
      "std: 0.7619128785213919\n"
     ]
    }
   ],
   "source": [
    "# SR\n",
    "import numpy as np\n",
    "\n",
    "time_costs = [12.532120704650879,\n",
    "14.373024463653564,\n",
    "12.843568325042725,\n",
    "13.84236764907837,\n",
    "13.779818058013916,\n",
    "]\n",
    "time_costs = np.array(time_costs)\n",
    "mean = np.mean(time_costs)\n",
    "std = np.std(time_costs, ddof=1)\n",
    "print(\"mean:\", mean)\n",
    "print(\"std:\", std)"
   ]
  },
  {
   "cell_type": "code",
   "execution_count": 4,
   "metadata": {},
   "outputs": [
    {
     "name": "stdout",
     "output_type": "stream",
     "text": [
      "mean: 181.16586322784423\n",
      "std: 6.459158738791442\n"
     ]
    }
   ],
   "source": [
    "# TVM\n",
    "import numpy as np\n",
    "\n",
    "time_costs = [181.2338409423828,\n",
    "171.83528351783752,\n",
    "182.1899173259735,\n",
    "190.01974725723267,\n",
    "180.55052709579468,\n",
    "]\n",
    "time_costs = np.array(time_costs)\n",
    "mean = np.mean(time_costs)\n",
    "std = np.std(time_costs, ddof=1)\n",
    "print(\"mean:\", mean)\n",
    "print(\"std:\", std)\n"
   ]
  },
  {
   "cell_type": "code",
   "execution_count": null,
   "metadata": {},
   "outputs": [],
   "source": []
  }
 ],
 "metadata": {
  "kernelspec": {
   "display_name": "photomaker",
   "language": "python",
   "name": "python3"
  },
  "language_info": {
   "codemirror_mode": {
    "name": "ipython",
    "version": 3
   },
   "file_extension": ".py",
   "mimetype": "text/x-python",
   "name": "python",
   "nbconvert_exporter": "python",
   "pygments_lexer": "ipython3",
   "version": "3.10.4"
  }
 },
 "nbformat": 4,
 "nbformat_minor": 2
}
