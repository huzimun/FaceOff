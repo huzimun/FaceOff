{
 "cells": [
  {
   "cell_type": "code",
   "execution_count": 1,
   "metadata": {},
   "outputs": [
    {
     "name": "stderr",
     "output_type": "stream",
     "text": [
      "/data1/humw/anaconda3/envs/photomaker/lib/python3.10/site-packages/tqdm/auto.py:21: TqdmWarning: IProgress not found. Please update jupyter and ipywidgets. See https://ipywidgets.readthedocs.io/en/stable/user_install.html\n",
      "  from .autonotebook import tqdm as notebook_tqdm\n",
      "2024-11-20 20:16:41.803902: I tensorflow/core/platform/cpu_feature_guard.cc:193] This TensorFlow binary is optimized with oneAPI Deep Neural Network Library (oneDNN) to use the following CPU instructions in performance-critical operations:  AVX2 AVX512F AVX512_VNNI FMA\n",
      "To enable them in other operations, rebuild TensorFlow with the appropriate compiler flags.\n",
      "2024-11-20 20:16:41.912298: I tensorflow/core/util/util.cc:169] oneDNN custom operations are on. You may see slightly different numerical results due to floating-point round-off errors from different computation orders. To turn them off, set the environment variable `TF_ENABLE_ONEDNN_OPTS=0`.\n",
      "2024-11-20 20:16:41.942303: E tensorflow/stream_executor/cuda/cuda_blas.cc:2981] Unable to register cuBLAS factory: Attempting to register factory for plugin cuBLAS when one has already been registered\n",
      "2024-11-20 20:16:42.489704: W tensorflow/stream_executor/platform/default/dso_loader.cc:64] Could not load dynamic library 'libnvinfer.so.7'; dlerror: libnvinfer.so.7: cannot open shared object file: No such file or directory; LD_LIBRARY_PATH: /usr/local/cuda-12.6/lib64:\n",
      "2024-11-20 20:16:42.489776: W tensorflow/stream_executor/platform/default/dso_loader.cc:64] Could not load dynamic library 'libnvinfer_plugin.so.7'; dlerror: libnvinfer_plugin.so.7: cannot open shared object file: No such file or directory; LD_LIBRARY_PATH: /usr/local/cuda-12.6/lib64:\n",
      "2024-11-20 20:16:42.489782: W tensorflow/compiler/tf2tensorrt/utils/py_utils.cc:38] TF-TRT Warning: Cannot dlopen some TensorRT libraries. If you would like to use Nvidia GPU with TensorRT, please make sure the missing libraries mentioned above are installed properly.\n"
     ]
    }
   ],
   "source": [
    "# 加载数据集\n",
    "from PIL import Image\n",
    "import json\n",
    "from pathlib import Path\n",
    "from torchvision import transforms\n",
    "\n",
    "dataset_dir = '/data1/humw/Datasets/VGGFace2'\n",
    "\n",
    "def load_data(data_dir, image_size=512, resample=2):\n",
    "    import numpy as np\n",
    "    def image_to_numpy(image):\n",
    "        return np.array(image).astype(np.uint8)\n",
    "    # more robust loading to avoid loaing non-image files\n",
    "    images = [] \n",
    "    for i in list(Path(data_dir).iterdir()):\n",
    "        if not i.suffix in [\".jpg\", \".png\", \".jpeg\"]:\n",
    "            continue\n",
    "        else:\n",
    "            images.append(image_to_numpy(Image.open(i).convert(\"RGB\")))\n",
    "    images = [Image.fromarray(i).resize((image_size, image_size), resample) for i in images]\n",
    "    images = np.stack(images)\n",
    "    # from B x H x W x C to B x C x H x W\n",
    "    images = torch.from_numpy(images).permute(0, 3, 1, 2).float()\n",
    "    assert images.shape[-1] == images.shape[-2]\n",
    "    return images\n",
    "\n",
    "train_aug = [\n",
    "        transforms.Resize(224, interpolation=transforms.InterpolationMode.BILINEAR),\n",
    "        transforms.CenterCrop(224),\n",
    "    ]\n",
    "tensorize_and_normalize = [\n",
    "    transforms.Normalize([0.5*255]*3,[0.5*255]*3),\n",
    "]\n",
    "all_trans = train_aug + tensorize_and_normalize\n",
    "all_trans = transforms.Compose(all_trans)\n",
    "    \n",
    "# 加载模型\n",
    "from transformers.models.clip.modeling_clip import CLIPVisionModelWithProjection\n",
    "import torch\n",
    "import os\n",
    "import torch.nn.functional as F\n",
    "\n",
    "device = \"cuda:0\"\n",
    "torch_dtype = torch.bfloat16\n",
    "pretrained_model_name_or_path = '/data1/humw/Pretrains/clip-vit-large-patch14'\n",
    "model = CLIPVisionModelWithProjection.from_pretrained(pretrained_model_name_or_path).to(device, dtype=torch_dtype)\n",
    "model.to(torch_dtype)\n",
    "id_embeds_dict = {}\n",
    "# 获取图像编码\n",
    "person_id_list = sorted(os.listdir(dataset_dir))\n",
    "for person_id in person_id_list:\n",
    "    person_id_dir = os.path.join(dataset_dir, person_id, \"set_B\")\n",
    "    clean_data = load_data(person_id_dir, 512, 2)\n",
    "    original_data = clean_data.to(device).requires_grad_(False).to(dtype=torch_dtype)\n",
    "    tran_original_data = all_trans(original_data)\n",
    "    ori_embeds = model(tran_original_data, output_hidden_states=True).hidden_states[-2]\n",
    "    id_embeds_dict[person_id] = ori_embeds\n",
    "# 计算两两之间的编码余弦损失距离，距离越大越好\n",
    "id_map_id = dict()\n",
    "id_map_loss = dict()\n",
    "for person_id_i in person_id_list:\n",
    "    id_map_id[person_id_i] = -1\n",
    "    id_map_loss[person_id_i] = -2\n",
    "    for person_id_j in person_id_list:\n",
    "        tmp = -F.cosine_similarity(id_embeds_dict[person_id_i], id_embeds_dict[person_id_j], -1).mean() # 越近越小，最小-1，越远越大，最大1\n",
    "        if tmp > id_map_loss[person_id_i]:\n",
    "            id_map_id[person_id_i] = person_id_j\n",
    "            id_map_loss[person_id_i] = tmp"
   ]
  },
  {
   "cell_type": "code",
   "execution_count": 2,
   "metadata": {},
   "outputs": [],
   "source": [
    "# 保存json文件\n",
    "dict = id_map_id\n",
    "json.dump(dict,open('/data1/humw/Codes/FaceOff/max_clip_cosine_distance_map.json','w'), indent=4)"
   ]
  },
  {
   "cell_type": "code",
   "execution_count": null,
   "metadata": {},
   "outputs": [],
   "source": []
  }
 ],
 "metadata": {
  "kernelspec": {
   "display_name": "photomaker",
   "language": "python",
   "name": "python3"
  },
  "language_info": {
   "codemirror_mode": {
    "name": "ipython",
    "version": 3
   },
   "file_extension": ".py",
   "mimetype": "text/x-python",
   "name": "python",
   "nbconvert_exporter": "python",
   "pygments_lexer": "ipython3",
   "version": "3.10.4"
  }
 },
 "nbformat": 4,
 "nbformat_minor": 2
}
