{
 "cells": [
  {
   "cell_type": "code",
   "execution_count": 1,
   "id": "411c59b3-f177-4a10-8925-d931ce572eaa",
   "metadata": {},
   "outputs": [
    {
     "name": "stderr",
     "output_type": "stream",
     "text": [
      "/home/humw/anaconda3/envs/photomaker/lib/python3.10/site-packages/tqdm/auto.py:21: TqdmWarning: IProgress not found. Please update jupyter and ipywidgets. See https://ipywidgets.readthedocs.io/en/stable/user_install.html\n",
      "  from .autonotebook import tqdm as notebook_tqdm\n",
      "2024-08-11 23:32:16.691936: I tensorflow/core/platform/cpu_feature_guard.cc:193] This TensorFlow binary is optimized with oneAPI Deep Neural Network Library (oneDNN) to use the following CPU instructions in performance-critical operations:  AVX2 AVX512F AVX512_VNNI FMA\n",
      "To enable them in other operations, rebuild TensorFlow with the appropriate compiler flags.\n",
      "2024-08-11 23:32:16.841012: I tensorflow/core/util/util.cc:169] oneDNN custom operations are on. You may see slightly different numerical results due to floating-point round-off errors from different computation orders. To turn them off, set the environment variable `TF_ENABLE_ONEDNN_OPTS=0`.\n",
      "2024-08-11 23:32:16.871912: E tensorflow/stream_executor/cuda/cuda_blas.cc:2981] Unable to register cuBLAS factory: Attempting to register factory for plugin cuBLAS when one has already been registered\n",
      "2024-08-11 23:32:17.532615: W tensorflow/stream_executor/platform/default/dso_loader.cc:64] Could not load dynamic library 'libnvinfer.so.7'; dlerror: libnvinfer.so.7: cannot open shared object file: No such file or directory; LD_LIBRARY_PATH: /usr/local/cuda-11.8/lib64:\n",
      "2024-08-11 23:32:17.532700: W tensorflow/stream_executor/platform/default/dso_loader.cc:64] Could not load dynamic library 'libnvinfer_plugin.so.7'; dlerror: libnvinfer_plugin.so.7: cannot open shared object file: No such file or directory; LD_LIBRARY_PATH: /usr/local/cuda-11.8/lib64:\n",
      "2024-08-11 23:32:17.532708: W tensorflow/compiler/tf2tensorrt/utils/py_utils.cc:38] TF-TRT Warning: Cannot dlopen some TensorRT libraries. If you would like to use Nvidia GPU with TensorRT, please make sure the missing libraries mentioned above are installed properly.\n"
     ]
    }
   ],
   "source": [
    "import torch\n",
    "from diffusers import StableDiffusionXLPipeline\n",
    "from PIL import Image\n",
    "\n",
    "from ip_adapter import IPAdapterPlusXL\n",
    "from ip_adapter.custom_pipelines import StableDiffusionXLCustomPipeline"
   ]
  },
  {
   "cell_type": "code",
   "execution_count": null,
   "id": "6b6dc69c-192d-4d74-8b1e-f0d9ccfbdb49",
   "metadata": {},
   "outputs": [],
   "source": [
    "base_model_path = \"/home/humw/Pretrain/RealVisXL_V3.0\" # \"stabilityai/stable-diffusion-xl-base-1.0\"\n",
    "image_encoder_path = \"/home/humw/Pretrain/h94/IP-Adapter/models/image_encoder\" # \"models/image_encoder\"\n",
    "ip_ckpt = \"/home/humw/Pretrain/h94/IP-Adapter/sdxl_models/ip-adapter-plus-face_sdxl_vit-h.bin\" # \"sdxl_models/ip-adapter-plus-face_sdxl_vit-h.bin\" # a experimental version\n",
    "device = \"cuda:1\""
   ]
  },
  {
   "cell_type": "code",
   "execution_count": null,
   "id": "8f615ace",
   "metadata": {},
   "outputs": [],
   "source": [
    "from torchvision import transforms\n",
    "from pathlib import Path"
   ]
  },
  {
   "cell_type": "code",
   "execution_count": null,
   "id": "9034d8bf",
   "metadata": {},
   "outputs": [],
   "source": [
    "def load_data(data_dir, image_size=224, resample=2):\n",
    "    import numpy as np\n",
    "    def image_to_numpy(image):\n",
    "        return np.array(image).astype(np.uint8)\n",
    "    # more robust loading to avoid loaing non-image files\n",
    "    images = [] \n",
    "    for i in sorted(list(Path(data_dir).iterdir())):\n",
    "        if not i.suffix in [\".jpg\", \".png\", \".jpeg\"]:\n",
    "            continue\n",
    "        else:\n",
    "            images.append(image_to_numpy(Image.open(i).convert(\"RGB\")))\n",
    "    # resize the images to 512 x 512, resample value 2 means BILINEAR\n",
    "    images = [Image.fromarray(i).resize((image_size, image_size), resample) for i in images]\n",
    "    return images"
   ]
  },
  {
   "cell_type": "code",
   "execution_count": null,
   "id": "63ec542f-8474-4f38-9457-073425578073",
   "metadata": {},
   "outputs": [],
   "source": [
    "def image_grid(imgs, rows, cols):\n",
    "    assert len(imgs) == rows*cols\n",
    "\n",
    "    w, h = imgs[0].size\n",
    "    grid = Image.new('RGB', size=(cols*w, rows*h))\n",
    "    grid_w, grid_h = grid.size\n",
    "    \n",
    "    for i, img in enumerate(imgs):\n",
    "        grid.paste(img, box=(i%cols*w, i//cols*h))\n",
    "    return grid"
   ]
  },
  {
   "cell_type": "code",
   "execution_count": null,
   "id": "3849f9d0-5f68-4a49-9190-69dd50720cae",
   "metadata": {},
   "outputs": [],
   "source": [
    "# load SDXL pipeline\n",
    "pipe = StableDiffusionXLCustomPipeline.from_pretrained(\n",
    "    base_model_path,\n",
    "    torch_dtype=torch.float16,\n",
    "    add_watermarker=False,\n",
    ")"
   ]
  },
  {
   "cell_type": "code",
   "execution_count": null,
   "id": "81b1ab06-d3ed-4a7e-a356-9ddf1a2eecd6",
   "metadata": {},
   "outputs": [],
   "source": [
    "# load ip-adapter\n",
    "ip_model = IPAdapterPlusXL(pipe, image_encoder_path, ip_ckpt, device, num_tokens=16)"
   ]
  },
  {
   "cell_type": "markdown",
   "id": "2a36055a-32fe-4d47-ba05-3ed143672daf",
   "metadata": {},
   "source": [
    "## Generate Image conditioned on face images\n",
    "- You should use a cropped face image (you can the adjust the cropped area size to get different results)\n",
    "- Since the background will have an impact on the resulting image, you'd better segment the face"
   ]
  },
  {
   "cell_type": "code",
   "execution_count": null,
   "id": "b040d962-7025-4393-9db5-cd60ac9a97dc",
   "metadata": {},
   "outputs": [],
   "source": [
    "# case 1\n",
    "image = Image.open(\"/home/humw/Codes/FaceOff/output/Exp1/ipadapter/min-VGGFace2_ipadapter_out-512_mid-336_loss-n-mse_alpha6_eps16_num200_pre-test/n000050/0012_01.png\")\n",
    "image.resize((224, 224),resample=2)\n",
    "\n",
    "# image = Image.open(\"/home/humw/Codes/FaceOff/output/Exp1/ipadapter/min-VGGFace2_ipadapter_out-512_mid-336_loss-n-mse_alpha6_eps16_num200_pre-test/n000050/0012_01.png\")\n",
    "# image.resize((224, 224),resample=2)"
   ]
  },
  {
   "cell_type": "code",
   "execution_count": null,
   "id": "5f1e3f7f",
   "metadata": {},
   "outputs": [],
   "source": [
    "data_dir = \"/home/humw/Codes/FaceOff/output/Exp1/ipadapter/min-VGGFace2_ipadapter_out-512_mid-336_loss-n-mse_alpha6_eps16_num200_pre-test/n000050\"\n",
    "images = load_data(data_dir, image_size=224)"
   ]
  },
  {
   "cell_type": "code",
   "execution_count": null,
   "id": "b77f52de-a9e4-44e1-aeec-8165414f1273",
   "metadata": {},
   "outputs": [],
   "source": [
    "images = ip_model.generate(pil_image=image, num_samples=1, num_inference_steps=30, seed=42,\n",
    "        prompt=\"a photo of person\")\n",
    "# grid = image_grid(images, 1, 2)\n",
    "# grid"
   ]
  },
  {
   "cell_type": "code",
   "execution_count": null,
   "id": "ec4b3b5c",
   "metadata": {},
   "outputs": [],
   "source": [
    "grid = image_grid(images, 1,1)\n",
    "grid"
   ]
  },
  {
   "cell_type": "code",
   "execution_count": null,
   "id": "c76ff9c9",
   "metadata": {},
   "outputs": [],
   "source": [
    "# case 1\n",
    "image = Image.open(\"/home/humw/Datasets/mini-VGGFace2/n000050/set_B/0012_01.png\")\n",
    "image.resize((224, 224))"
   ]
  },
  {
   "cell_type": "code",
   "execution_count": null,
   "id": "e60aad8b",
   "metadata": {},
   "outputs": [],
   "source": [
    "images = ip_model.generate(pil_image=image, num_samples=2, num_inference_steps=30, seed=42,\n",
    "        prompt=\"a photo of person\")\n",
    "grid = image_grid(images, 1, 2)\n",
    "grid"
   ]
  },
  {
   "cell_type": "code",
   "execution_count": null,
   "id": "36ec1dce-7861-4ce2-90de-0de36bb28569",
   "metadata": {},
   "outputs": [],
   "source": [
    "# case 2\n",
    "image = Image.open(\"assets/images/ai_face2.png\")\n",
    "image.resize((224, 224))"
   ]
  },
  {
   "cell_type": "code",
   "execution_count": null,
   "id": "7fb2114c-a3f8-4d5c-946a-89c5828626d3",
   "metadata": {},
   "outputs": [],
   "source": [
    "images = ip_model.generate(pil_image=image, num_samples=2, num_inference_steps=30, seed=42,\n",
    "        prompt=\"photo of a beautiful girl wearing casual shirt in a garden\")\n",
    "grid = image_grid(images, 1, 2)\n",
    "grid"
   ]
  },
  {
   "cell_type": "code",
   "execution_count": null,
   "id": "a03eb120",
   "metadata": {},
   "outputs": [],
   "source": [
    "# # case 2\n",
    "# image = Image.open(\"/home/humw/Datasets/VGGFace2/n000050/set_B/0012_01.png\")\n",
    "# image.resize((224, 224))\n",
    "# images = ip_model.generate(pil_image=image, num_samples=2, num_inference_steps=30, seed=42,\n",
    "#         prompt=\"a photo of person\")\n",
    "# import os\n",
    "# save_prompt_dir = '/home/humw/Codes/FaceOff/target_model/IP-Adapter-main/output/sd_xl_plus'\n",
    "# save_path = os.path.join(save_prompt_dir, 'n000050_original')\n",
    "# os.makedirs(save_path, exist_ok=True)\n",
    "# for idx, image in enumerate(images):\n",
    "#     image.save(os.path.join(save_path, f\"ipadapter_{idx:02d}.png\"))\n",
    "# grid = image_grid(images, 1, 2)\n",
    "# grid\n",
    "# case 2\n",
    "import os\n",
    "# images = list()\n",
    "# img_dir = '/home/humw/Codes/FaceOff/output/min-VGGFace2_ipadapter_out-512_loss-n-mse_alpha6_eps16_num200_pre-test/n000050'\n",
    "# for img in os.listdir(img_dir):\n",
    "#     image = Image.open(os.path.join(img_dir, img))\n",
    "#     image.resize((224, 224))\n",
    "#     images.append(image)\n",
    "image = Image.open(\"/home/humw/Codes/FaceOff/output/min-VGGFace2_ipadapter_out-512_loss-n-mse_alpha6_eps16_num200_pre-test/n000050/0012_01.png\")\n",
    "image.resize((224, 224))\n",
    "images = ip_model.generate(pil_image=images, num_samples=2, num_inference_steps=30, seed=42,\n",
    "        prompt=\"a photo of person\")\n",
    "grid = image_grid(images, 1, 2)\n",
    "grid\n",
    "save_prompt_dir = '/home/humw/Codes/FaceOff/target_model/IP-Adapter-main/output/sd_xl_plus/test'\n",
    "save_path = os.path.join(save_prompt_dir, 'n000050')\n",
    "os.makedirs(save_path, exist_ok=True)\n",
    "for idx, image in enumerate(images):\n",
    "    image.save(os.path.join(save_path, f\"ipadapter_{idx:02d}.png\"))\n"
   ]
  },
  {
   "cell_type": "code",
   "execution_count": null,
   "id": "04bdc962",
   "metadata": {},
   "outputs": [],
   "source": [
    "# case 2\n",
    "# image = Image.open(\"/home/humw/Datasets/VGGFace2/n000057/set_B/0012_01.png\")\n",
    "# image.resize((224, 224))\n",
    "# images = ip_model.generate(pil_image=image, num_samples=2, num_inference_steps=30, seed=42,\n",
    "#         prompt=\"a photo of person\")\n",
    "# import os\n",
    "# save_prompt_dir = '/home/humw/Codes/FaceOff/target_model/IP-Adapter-main/output/sd_xl_plus'\n",
    "# save_path = os.path.join(save_prompt_dir, 'n000057_original')\n",
    "# os.makedirs(save_path, exist_ok=True)\n",
    "# for idx, image in enumerate(images):\n",
    "#     image.save(os.path.join(save_path, f\"ipadapter_{idx:02d}.png\"))\n",
    "# grid = image_grid(images, 1, 2)\n",
    "# grid\n",
    "\n",
    "image = Image.open(\"/home/humw/Codes/FaceOff/output/VGGFace2_photomaker_max_out-512_refiner-blur3-min75-inter40_loss-n-mse_alpha6_eps16_num200/n000057/0012_01.png\")\n",
    "image.resize((224, 224))\n",
    "images = ip_model.generate(pil_image=image, num_samples=2, num_inference_steps=30, seed=42,\n",
    "        prompt=\"a photo of person\")\n",
    "import os\n",
    "save_prompt_dir = '/home/humw/Codes/FaceOff/target_model/IP-Adapter-main/output/sd_xl_plus'\n",
    "save_path = os.path.join(save_prompt_dir, 'n000057_refiner')\n",
    "os.makedirs(save_path, exist_ok=True)\n",
    "for idx, image in enumerate(images):\n",
    "    image.save(os.path.join(save_path, f\"ipadapter_{idx:02d}.png\"))\n",
    "grid = image_grid(images, 1, 2)\n",
    "grid\n",
    "\n",
    "image = Image.open(\"/home/humw/Codes/FaceOff/output/VGGFace2_photomaker_max_out-512_loss-n-mse_alpha6_eps16_num200/n000057/0012_01.png\")\n",
    "image.resize((224, 224))\n",
    "images = ip_model.generate(pil_image=image, num_samples=2, num_inference_steps=30, seed=42,\n",
    "        prompt=\"a photo of person\")\n",
    "import os\n",
    "save_prompt_dir = '/home/humw/Codes/FaceOff/target_model/IP-Adapter-main/output/sd_xl_plus'\n",
    "save_path = os.path.join(save_prompt_dir, 'n000057_no_refiner')\n",
    "os.makedirs(save_path, exist_ok=True)\n",
    "for idx, image in enumerate(images):\n",
    "    image.save(os.path.join(save_path, f\"ipadapter_{idx:02d}.png\"))\n",
    "grid = image_grid(images, 1, 2)\n",
    "grid"
   ]
  },
  {
   "cell_type": "markdown",
   "id": "82a09df1-3bc9-43ff-976e-c095402b1225",
   "metadata": {},
   "source": [
    "## Post-Conditioning\n",
    "Use post-condition to generate more diverse images (like inpainting but you don't draw mask)"
   ]
  },
  {
   "cell_type": "code",
   "execution_count": null,
   "id": "c346f01f-cb18-41c7-abaa-5cbdb3ecea0d",
   "metadata": {},
   "outputs": [],
   "source": [
    "# generate the image only conditioned text\n",
    "images = ip_model.generate(pil_image=image, num_samples=2, num_inference_steps=30, seed=2023,\n",
    "        prompt=\"photo of a beautiful girl wearing casual shirt in a garden\", control_guidance_start=1.)\n",
    "grid = image_grid(images, 1, 2)\n",
    "grid"
   ]
  },
  {
   "cell_type": "code",
   "execution_count": null,
   "id": "eb4600bf-f36e-4678-9253-3adf0be2af9f",
   "metadata": {},
   "outputs": [],
   "source": [
    "# add face image condition\n",
    "images = ip_model.generate(pil_image=image, num_samples=2, num_inference_steps=30, seed=2023,\n",
    "        prompt=\"photo of a beautiful girl wearing casual shirt in a garden\", control_guidance_start=0.5)\n",
    "grid = image_grid(images, 1, 2)\n",
    "grid"
   ]
  }
 ],
 "metadata": {
  "kernelspec": {
   "display_name": "Python 3 (ipykernel)",
   "language": "python",
   "name": "python3"
  },
  "language_info": {
   "codemirror_mode": {
    "name": "ipython",
    "version": 3
   },
   "file_extension": ".py",
   "mimetype": "text/x-python",
   "name": "python",
   "nbconvert_exporter": "python",
   "pygments_lexer": "ipython3",
   "version": "3.10.4"
  }
 },
 "nbformat": 4,
 "nbformat_minor": 5
}
