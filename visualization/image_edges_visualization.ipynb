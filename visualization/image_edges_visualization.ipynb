{
 "cells": [
  {
   "cell_type": "code",
   "execution_count": 2,
   "metadata": {},
   "outputs": [],
   "source": [
    "import cv2\n",
    "import numpy as np\n",
    "\n",
    "# 读取图像\n",
    "image_path = '/data1/humw/Datasets/VGGFace2/n000050/set_B/0012_01.png'  # 替换为你的图像路径\n",
    "image = cv2.imread(image_path)\n",
    "\n",
    "# 检查图像是否成功加载\n",
    "if image is None:\n",
    "    print(\"Error: Image not found or unable to load.\")\n",
    "    exit()\n",
    "\n",
    "# 转换为灰度图\n",
    "gray_image = cv2.cvtColor(image, cv2.COLOR_BGR2GRAY)\n",
    "\n",
    "# # 应用高斯模糊以减少噪声和不必要的细节\n",
    "# blurred_image = cv2.GaussianBlur(gray_image, (5, 5), 0)\n",
    "\n",
    "# 使用Canny算法进行边缘检测\n",
    "# edges = cv2.Canny(blurred_image, threshold1=30, threshold2=100)\n",
    "edges = cv2.Canny(gray_image, threshold1=100, threshold2=200)"
   ]
  },
  {
   "cell_type": "code",
   "execution_count": 7,
   "metadata": {},
   "outputs": [
    {
     "data": {
      "text/plain": [
       "True"
      ]
     },
     "execution_count": 7,
     "metadata": {},
     "output_type": "execute_result"
    }
   ],
   "source": [
    "cv2.imwrite(\"0012_01.png\", image)"
   ]
  },
  {
   "cell_type": "code",
   "execution_count": 6,
   "metadata": {},
   "outputs": [
    {
     "data": {
      "text/plain": [
       "True"
      ]
     },
     "execution_count": 6,
     "metadata": {},
     "output_type": "execute_result"
    }
   ],
   "source": [
    "cv2.imwrite(\"0012_01_edges.png\", edges)"
   ]
  },
  {
   "cell_type": "code",
   "execution_count": 8,
   "metadata": {},
   "outputs": [],
   "source": [
    "import cv2\n",
    "import numpy as np\n",
    "\n",
    "# 读取图像\n",
    "image_path = '/data1/humw/Codes/FaceOff/outputs/adversarial_images/ipadapter_VGGFace2_cosine_w0.5_num100_alpha6_eps16_input512_224_yingbu_refiner0/n000050/0012_01.png'  # 替换为你的图像路径\n",
    "image = cv2.imread(image_path)\n",
    "\n",
    "# 检查图像是否成功加载\n",
    "if image is None:\n",
    "    print(\"Error: Image not found or unable to load.\")\n",
    "    exit()\n",
    "\n",
    "# 转换为灰度图\n",
    "gray_image = cv2.cvtColor(image, cv2.COLOR_BGR2GRAY)\n",
    "\n",
    "# # 应用高斯模糊以减少噪声和不必要的细节\n",
    "# blurred_image = cv2.GaussianBlur(gray_image, (5, 5), 0)\n",
    "\n",
    "# 使用Canny算法进行边缘检测\n",
    "# edges = cv2.Canny(blurred_image, threshold1=30, threshold2=100)\n",
    "edges = cv2.Canny(gray_image, threshold1=100, threshold2=200)"
   ]
  },
  {
   "cell_type": "code",
   "execution_count": 9,
   "metadata": {},
   "outputs": [
    {
     "data": {
      "text/plain": [
       "True"
      ]
     },
     "execution_count": 9,
     "metadata": {},
     "output_type": "execute_result"
    }
   ],
   "source": [
    "cv2.imwrite(\"protected_wo_refiner_0012_01.png\", image)"
   ]
  },
  {
   "cell_type": "code",
   "execution_count": 10,
   "metadata": {},
   "outputs": [
    {
     "data": {
      "text/plain": [
       "True"
      ]
     },
     "execution_count": 10,
     "metadata": {},
     "output_type": "execute_result"
    }
   ],
   "source": [
    "cv2.imwrite(\"protected_wo_refiner_0012_01_edges.png\", edges)"
   ]
  },
  {
   "cell_type": "code",
   "execution_count": 12,
   "metadata": {},
   "outputs": [],
   "source": [
    "import cv2\n",
    "import numpy as np\n",
    "\n",
    "# 读取图像\n",
    "image_path = '/data1/humw/Codes/FaceOff/outputs/adversarial_images/face_diffuser_VGGFace2_mse_w0.5_num50_alpha6_eps16_input512_224_max_refiner1_pre_edge200-100_filter3_min-eps8_interval10/n000050/0012_01.png'  # 替换为你的图像路径\n",
    "image = cv2.imread(image_path)\n",
    "\n",
    "# 检查图像是否成功加载\n",
    "if image is None:\n",
    "    print(\"Error: Image not found or unable to load.\")\n",
    "    exit()\n",
    "\n",
    "# 转换为灰度图\n",
    "gray_image = cv2.cvtColor(image, cv2.COLOR_BGR2GRAY)\n",
    "\n",
    "# # 应用高斯模糊以减少噪声和不必要的细节\n",
    "# blurred_image = cv2.GaussianBlur(gray_image, (5, 5), 0)\n",
    "\n",
    "# 使用Canny算法进行边缘检测\n",
    "# edges = cv2.Canny(blurred_image, threshold1=30, threshold2=100)\n",
    "edges = cv2.Canny(gray_image, threshold1=100, threshold2=200)"
   ]
  },
  {
   "cell_type": "code",
   "execution_count": 13,
   "metadata": {},
   "outputs": [
    {
     "data": {
      "text/plain": [
       "True"
      ]
     },
     "execution_count": 13,
     "metadata": {},
     "output_type": "execute_result"
    }
   ],
   "source": [
    "cv2.imwrite(\"protected_pre_refiner_0012_01.png\", image)"
   ]
  },
  {
   "cell_type": "code",
   "execution_count": 14,
   "metadata": {},
   "outputs": [
    {
     "data": {
      "text/plain": [
       "True"
      ]
     },
     "execution_count": 14,
     "metadata": {},
     "output_type": "execute_result"
    }
   ],
   "source": [
    "cv2.imwrite(\"protected_pre_refiner_0012_01_edges.png\", edges)"
   ]
  },
  {
   "cell_type": "code",
   "execution_count": 21,
   "metadata": {},
   "outputs": [],
   "source": [
    "import cv2\n",
    "import numpy as np\n",
    "\n",
    "# 读取图像\n",
    "image_path = '/data1/humw/Codes/FaceOff/outputs/adversarial_images/face_diffuser_VGGFace2_mse_w0.5_num50_alpha6_eps16_input512_224_max_refiner1_mid1_edge200-100_filter3_min-eps8_interval10/n000050/0012_01.png'  # 替换为你的图像路径\n",
    "image = cv2.imread(image_path)\n",
    "\n",
    "# 检查图像是否成功加载\n",
    "if image is None:\n",
    "    print(\"Error: Image not found or unable to load.\")\n",
    "    exit()\n",
    "\n",
    "# 转换为灰度图\n",
    "gray_image = cv2.cvtColor(image, cv2.COLOR_BGR2GRAY)\n",
    "\n",
    "# # 应用高斯模糊以减少噪声和不必要的细节\n",
    "# blurred_image = cv2.GaussianBlur(gray_image, (5, 5), 0)\n",
    "\n",
    "# 使用Canny算法进行边缘检测\n",
    "# edges = cv2.Canny(blurred_image, threshold1=30, threshold2=100)\n",
    "edges = cv2.Canny(gray_image, threshold1=100, threshold2=200)"
   ]
  },
  {
   "cell_type": "code",
   "execution_count": 22,
   "metadata": {},
   "outputs": [
    {
     "data": {
      "text/plain": [
       "True"
      ]
     },
     "execution_count": 22,
     "metadata": {},
     "output_type": "execute_result"
    }
   ],
   "source": [
    "cv2.imwrite(\"protected_mid1_refiner_0012_01.png\", image)"
   ]
  },
  {
   "cell_type": "code",
   "execution_count": 23,
   "metadata": {},
   "outputs": [
    {
     "data": {
      "text/plain": [
       "True"
      ]
     },
     "execution_count": 23,
     "metadata": {},
     "output_type": "execute_result"
    }
   ],
   "source": [
    "cv2.imwrite(\"protected_mid1_refiner_0012_01_edges.png\", edges)"
   ]
  },
  {
   "cell_type": "code",
   "execution_count": null,
   "metadata": {},
   "outputs": [],
   "source": []
  }
 ],
 "metadata": {
  "kernelspec": {
   "display_name": "photomaker",
   "language": "python",
   "name": "python3"
  },
  "language_info": {
   "codemirror_mode": {
    "name": "ipython",
    "version": 3
   },
   "file_extension": ".py",
   "mimetype": "text/x-python",
   "name": "python",
   "nbconvert_exporter": "python",
   "pygments_lexer": "ipython3",
   "version": "3.10.4"
  }
 },
 "nbformat": 4,
 "nbformat_minor": 2
}
